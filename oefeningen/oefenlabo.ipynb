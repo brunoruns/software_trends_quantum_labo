{
 "cells": [
  {
   "cell_type": "markdown",
   "metadata": {},
   "source": [
    "# Oefenlabo Quantum Computing\n",
    "\n",
    "Zorg dat je systeem goed werkt:\n",
    "Lees de readme van deze repo om Qiskit te installeren voor Python. De code vergt minimale kennis van Python zelf."
   ]
  },
  {
   "cell_type": "markdown",
   "metadata": {},
   "source": [
    "## Qubits initialiseren\n",
    "Creëer een circuit met een quantum qubit en een klassieke qubit. Koppel deze aan elkaar , meet, en kijk naar de uitkomst. Herhaal voor een setup met 2 qubits en met 3 of 4 qubits."
   ]
  },
  {
   "cell_type": "code",
   "execution_count": 2,
   "metadata": {},
   "outputs": [],
   "source": [
    "# code\n",
    "import qiskit"
   ]
  },
  {
   "cell_type": "markdown",
   "metadata": {},
   "source": [
    "## Quantum Gates\n",
    "\n",
    "Quantum gates worden gebruikt om qubits te manipuleren, zonder ernaar te kijken. Je kan het vergelijken met de AND/OR/NOT gates in klassieke elektronica. Je kan dus een aantal qubits aan een gate meegeven, en dan komt er (1 of meerdere) qubits uit. Vooral de Hadamard gate en de CNOT gate zijn cruciaal in verdere algoritmes. Hieronder de werking van enkele veelgebruikte gates (zie ook slides theorie):\n",
    "\n",
    "De volgende gates werken op 1 qubit.\n",
    "- Hadamard gate: $\\ket{0}$, $\\ket{1}$ omzetten in superpositie $\\ket{+} := \\frac{\\ket{0} + \\ket{1}}{\\sqrt{2}}$, resp $\\ket{-} := \\frac{\\ket{0} - \\ket{1}}{\\sqrt{2}}$ (en terug, indien twee keer toegepast)\n",
    "- X: NOT gate op $\\ket{0}$ en $\\ket{1}$, dus deze omwisselen\n",
    "- Y: $\\ket{0}$ naar $i \\ket{1}$, $\\ket{1}$ naar $-i  \\ket{0}$ --- hierbij is $i$ is de complexe $i$, dus $i^2 = -1$\n",
    "- Z: phase shift: $\\ket{0}$ naar $\\ket{0}$, $\\ket{1}$ naar $-\\ket{1}$\n",
    "- S: shift: $\\ket{0}$ naar $\\ket{0}$, $\\ket{1}$ naar $\\frac{1 + i}{\\sqrt{2}}\\ket{1}$\n",
    "- T: shift: $\\ket{0}$ naar $\\ket{0}$, $\\ket{1}$ naar $i \\ket{1}$\n",
    "\n",
    "De volgende gates werken op 2 qubits\n",
    "- CNOT = CX: controlled NOT gate: de tweede qubit wordt geswitched zoals X, maar enkel als de eerste qubit 1 is\n",
    "- CZ = controlled Z gate: de tweede qubit wordt door Z gate gestuurd als eerste qubit 1 is\n",
    "- SWAP: wissel de qubits van volgorde\n",
    "- TOFFOLI = CCNOT: de derde qubit wordt geswitched zoals X maar enkel als de eerste twee qubits 1 zijn."
   ]
  },
  {
   "cell_type": "markdown",
   "metadata": {},
   "source": [
    "### Oefening:\n",
    "Volg op Qiskit de tutorial 'Circuit Basics' (https://qiskit.org/documentation/tutorials/circuits/01_circuit_basics.html). Sommige stukken zijn nogal gedetailleerd en behandel ik niet, zoals de qsphere. Wat wel zeker tot de leerstof behoort is op het opzetten van de volledig entangled state (zie verdere oefeningen). Voor 3 qubits heet dit de GHZ-state, genoemd naar Greenberger-Horne-Zeilinger. Voor 2 qubits heten deze states (er zijn er verschillende) de Bell states of ook wel EPR-pairs, genoemd naar Einstein-Podolsky-Rosen."
   ]
  },
  {
   "cell_type": "code",
   "execution_count": null,
   "metadata": {},
   "outputs": [],
   "source": [
    "#code"
   ]
  },
  {
   "cell_type": "markdown",
   "metadata": {},
   "source": [
    "## Quantum Superposition\n",
    "\n",
    "Creëer een superpostie van 2 qubits."
   ]
  },
  {
   "cell_type": "code",
   "execution_count": null,
   "metadata": {},
   "outputs": [],
   "source": [
    "#code"
   ]
  },
  {
   "cell_type": "markdown",
   "metadata": {},
   "source": [
    "## Quantum Entanglement\n",
    "Qubits kunnen door een slimme combinatie van poorten in een bepaalde superpositie worden gebracht waarbij ze maximale informatiedeling hebben. dat wil zeggen dat als 1 qubit wordt gemeten en dus een vaste meetwaarde heeft, de meetwaarde van de andere qubit ook gekend is **zonder te moeten meten**. Deze eigenschap is bijna een soort van magie: de entangled (Nederlands: verstrengelde) qubits zijn niet fysiek met elkaar verbonden. Albert Einstein zelf noemde het 'spooky action at a distance'. In Nederland, aan het QuTech lab van de TUDelft (https://www.tudelft.nl/en/2021/tu-delft/dutch-researchers-establish-the-first-entanglement-based-quantum-network), is men erin geslaagd om over een afstand van meer dan 30 meter zo informatie uit te wisselen. Het is belangrijk te beseffen dat dit gebeurt zonder internet, wifi of dergelijke: énkel door de eigenschappen van qubits.\n",
    "\n",
    "Voor 2 qubits zijn er 4 states met maximale entanglement; dit zijn de Bell states (ze worden ook wel EPR-pairs genoemd, naar Einstein-Podolsky-Rosen):\n",
    "- $$\\ket{\\Phi^{+}} = \\frac{\\ket{00} + \\ket{11}}{\\sqrt{2}} $$\n",
    "- $$\\ket{\\Phi^{-}} = \\frac{\\ket{00} - \\ket{11}}{\\sqrt{2}} $$\n",
    "- $$\\ket{\\Psi^{+}} = \\frac{\\ket{01} + \\ket{10}}{\\sqrt{2}} $$\n",
    "- $$\\ket{\\Psi^{-}} = \\frac{\\ket{01} - \\ket{10}}{\\sqrt{2}} $$\n",
    "\n",
    "Oefening\n",
    "\n",
    "Creëer verschillende Bell States, met behulp van de Hadamard, CNOT en andere gates. Meet verschillende keren de waarde van deze states en observeer het resultaat. Je mag hier opzoeken (https://en.wikipedia.org/wiki/Bell_state) en/of chatGPT gebruiken ter assistentie."
   ]
  },
  {
   "cell_type": "code",
   "execution_count": null,
   "metadata": {},
   "outputs": [],
   "source": [
    "#code"
   ]
  },
  {
   "cell_type": "markdown",
   "metadata": {},
   "source": [
    "## Superdense coding"
   ]
  },
  {
   "cell_type": "markdown",
   "metadata": {},
   "source": [
    "Bekijk de code van superposition.py, hiermee kan door 1 entangled pair 2 bits aan informatie worden verstuurd."
   ]
  },
  {
   "cell_type": "markdown",
   "metadata": {},
   "source": []
  }
 ],
 "metadata": {
  "kernelspec": {
   "display_name": "Python 3",
   "language": "python",
   "name": "python3"
  },
  "language_info": {
   "codemirror_mode": {
    "name": "ipython",
    "version": 3
   },
   "file_extension": ".py",
   "mimetype": "text/x-python",
   "name": "python",
   "nbconvert_exporter": "python",
   "pygments_lexer": "ipython3",
   "version": "3.11.13"
  }
 },
 "nbformat": 4,
 "nbformat_minor": 2
}
