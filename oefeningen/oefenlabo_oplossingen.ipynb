{
 "cells": [
  {
   "cell_type": "markdown",
   "metadata": {},
   "source": [
    "# Oefenlabo Quantum Computing\n",
    "\n",
    "Zorg dat je systeem goed werkt:\n",
    "Lees de readme van deze repo om Qiskit te installeren voor Python. De code vergt minimale kennis van Python zelf."
   ]
  },
  {
   "cell_type": "markdown",
   "metadata": {},
   "source": [
    "## Qubits initialiseren\n",
    "Creëer een circuit met een quantum qubit en een klassieke qubit. Koppel deze aan elkaar , meet, en kijk naar de uitkomst. Herhaal voor een setup met 2 qubits en met 3 of 4 qubits."
   ]
  },
  {
   "cell_type": "code",
   "execution_count": 4,
   "metadata": {},
   "outputs": [
    {
     "name": "stdout",
     "output_type": "stream",
     "text": [
      "         ░ ┌─┐\n",
      "     q: ─░─┤M├\n",
      "         ░ └╥┘\n",
      "meas: 1/════╩═\n",
      "            0 \n",
      "Measurement result: {'0': 1000}\n"
     ]
    }
   ],
   "source": [
    "from qiskit import QuantumCircuit, transpile, assemble\n",
    "from qiskit_aer import Aer\n",
    "\n",
    "# Create a quantum circuit with one qubit\n",
    "qc = QuantumCircuit(1)\n",
    "\n",
    "# Perform a measurement on the qubit\n",
    "qc.measure_all()\n",
    "\n",
    "# Visualize the circuit\n",
    "print(qc)\n",
    "qc.draw('mpl')\n",
    "\n",
    "# Use the Aer simulator to simulate the measurement\n",
    "simulator = Aer.get_backend('qasm_simulator')\n",
    "transpiled_program = transpile(qc, simulator)\n",
    "job = simulator.run(transpiled_program, shots=1000)\n",
    "counts = job.result().get_counts()\n",
    "\n",
    "print(\"Measurement result:\", counts)"
   ]
  },
  {
   "cell_type": "code",
   "execution_count": 5,
   "metadata": {},
   "outputs": [
    {
     "data": {
      "image/png": "[encoded data removed]",
      "text/plain": [
       "<Figure size 329.554x200.667 with 1 Axes>"
      ]
     },
     "execution_count": 5,
     "metadata": {},
     "output_type": "execute_result"
    }
   ],
   "source": [
    "qc.draw('mpl')"
   ]
  },
  {
   "cell_type": "markdown",
   "metadata": {},
   "source": [
    "## Quantum Gates"
   ]
  },
  {
   "cell_type": "markdown",
   "metadata": {},
   "source": [
    "Quantum gates worden gebruikt om qubits te manipuleren, zonder ernaar te kijken. Je kan het vergelijken met de AND/OR/NOT gates in klassieke elektronica. Je kan dus een aantal qubits aan een gate meegeven, en dan komt er (1 of meerdere) qubits uit. Vooral de Hadamard gate en de CNOT gate zijn cruciaal in verdere algoritmes. Hieronder de werking van enkele veelgebruikte gates (zie ook slides theorie):\n",
    "\n",
    "De volgende gates werken op 1 qubit.\n",
    "- Hadamard gate: $\\ket{0}$, $\\ket{1}$ omzetten in superpositie $\\ket{+} := \\frac{\\ket{0} + \\ket{1}}{\\sqrt{2}}$, resp $\\ket{-} := \\frac{\\ket{0} - \\ket{1}}{\\sqrt{2}}$ (en terug, indien twee keer toegepast)\n",
    "- X: NOT gate op $\\ket{0}$ en $\\ket{1}$, dus deze omwisselen\n",
    "- Y: $\\ket{0}$ naar $i \\ket{1}$, $\\ket{1}$ naar $-i  \\ket{0}$ --- hierbij is $i$ is de complexe $i$, dus $i^2 = -1$\n",
    "- Z: phase shift: $\\ket{0}$ naar $\\ket{0}$, $\\ket{1}$ naar $-\\ket{1}$\n",
    "- S: shift: $\\ket{0}$ naar $\\ket{0}$, $\\ket{1}$ naar $\\frac{1 + i}{\\sqrt{2}}\\ket{1}$\n",
    "- T: shift: $\\ket{0}$ naar $\\ket{0}$, $\\ket{1}$ naar $i \\ket{1}$\n",
    "\n",
    "De volgende gates werken op 2 qubits\n",
    "- CNOT = CX: controlled NOT gate: de tweede qubit wordt geswitched zoals X, maar enkel als de eerste qubit 1 is\n",
    "- CZ = controlled Z gate: de tweede qubit wordt door Z gate gestuurd als eerste qubit 1 is\n",
    "- SWAP: wissel de qubits van volgorde\n",
    "- TOFFOLI = CCNOT: de derde qubit wordt geswitched zoals X maar enkel als de eerste twee qubits 1 zijn."
   ]
  },
  {
   "cell_type": "markdown",
   "metadata": {},
   "source": [
    "### Oefening:\n",
    "Volg op Qiskit de tutorial 'Circuit Basics' (https://qiskit.org/documentation/tutorials/circuits/01_circuit_basics.html). Sommige stukken zijn nogal gedetailleerd en behandel ik niet, zoals de qsphere. Wat wel zeker tot de leerstof behoort is op het opzetten van de volledig entangled state (zie verdere oefeningen). Voor 3 qubits heet dit de GHZ-state, genoemd naar Greenberger-Horne-Zeilinger. Voor 2 qubits heten deze states (er zijn er verschillende) de Bell states of ook wel EPR-pairs, genoemd naar Einstein-Podolsky-Rosen."
   ]
  },
  {
   "cell_type": "code",
   "execution_count": 6,
   "metadata": {},
   "outputs": [],
   "source": [
    "import numpy as np\n",
    "from qiskit import QuantumCircuit"
   ]
  },
  {
   "cell_type": "markdown",
   "metadata": {},
   "source": [
    "## Quantum Superposition\n",
    "\n",
    "Creëer een superpostie van 2 qubits."
   ]
  },
  {
   "cell_type": "code",
   "execution_count": 7,
   "metadata": {},
   "outputs": [
    {
     "data": {
      "text/plain": [
       "<qiskit.circuit.instructionset.InstructionSet at 0x7f245ec88a30>"
      ]
     },
     "execution_count": 7,
     "metadata": {},
     "output_type": "execute_result"
    }
   ],
   "source": [
    "#code\n",
    "# Create a Quantum Circuit acting on a quantum register of three qubits\n",
    "circ = QuantumCircuit(3)\n",
    "# 000\n",
    "\n",
    "# Add a H gate on qubit 0, putting this qubit in superposition.\n",
    "circ.h(0)\n",
    "#~00\n",
    "\n",
    "# Add a CX (CNOT) gate on control qubit 0 and target qubit 1, putting\n",
    "# the qubits in a Bell state.\n",
    "circ.cx(0, 1)\n",
    "#~~0\n",
    "\n",
    "\n",
    "# Add a CX (CNOT) gate on control qubit 0 and target qubit 2, putting\n",
    "# the qubits in a GHZ state.\n",
    "circ.cx(0, 2)"
   ]
  },
  {
   "cell_type": "code",
   "execution_count": 8,
   "metadata": {},
   "outputs": [
    {
     "data": {
      "image/png": "[encoded data removed]",
      "text/plain": [
       "<Figure size 371.107x284.278 with 1 Axes>"
      ]
     },
     "execution_count": 8,
     "metadata": {},
     "output_type": "execute_result"
    }
   ],
   "source": [
    "circ.draw('mpl')"
   ]
  },
  {
   "cell_type": "code",
   "execution_count": 9,
   "metadata": {},
   "outputs": [
    {
     "data": {
      "text/latex": [
       "$$\\frac{\\sqrt{2}}{2} |000\\rangle+\\frac{\\sqrt{2}}{2} |111\\rangle$$"
      ],
      "text/plain": [
       "<IPython.core.display.Latex object>"
      ]
     },
     "execution_count": 9,
     "metadata": {},
     "output_type": "execute_result"
    }
   ],
   "source": [
    "from qiskit.quantum_info import Statevector\n",
    "\n",
    "# Set the initial state of the simulator to the ground state using from_int\n",
    "state = Statevector.from_int(0, 2**3)\n",
    "\n",
    "# Evolve the state by the quantum circuit\n",
    "state = state.evolve(circ)\n",
    "\n",
    "#draw using latex\n",
    "state.draw('latex')\n",
    "\n"
   ]
  },
  {
   "cell_type": "code",
   "execution_count": 10,
   "metadata": {},
   "outputs": [
    {
     "data": {
      "text/latex": [
       "$$\n",
       "\n",
       "\\begin{bmatrix}\n",
       "\\frac{\\sqrt{2}}{2} & 0 & 0 & 0 & 0 & 0 & 0 & \\frac{\\sqrt{2}}{2}  \\\\\n",
       " \\end{bmatrix}\n",
       "$$"
      ],
      "text/plain": [
       "<IPython.core.display.Latex object>"
      ]
     },
     "execution_count": 10,
     "metadata": {},
     "output_type": "execute_result"
    }
   ],
   "source": [
    "from qiskit.visualization import array_to_latex\n",
    "\n",
    "#Alternative way of representing in latex\n",
    "array_to_latex(state)\n",
    "\n"
   ]
  },
  {
   "cell_type": "code",
   "execution_count": 11,
   "metadata": {},
   "outputs": [
    {
     "ename": "MissingOptionalLibraryError",
     "evalue": "\"The 'seaborn' library is required to use 'plot_state_qsphere'. You can install it with 'pip install seaborn'.\"",
     "output_type": "error",
     "traceback": [
      "\u001b[0;31m---------------------------------------------------------------------------\u001b[0m",
      "\u001b[0;31mMissingOptionalLibraryError\u001b[0m               Traceback (most recent call last)",
      "Cell \u001b[0;32mIn[11], line 1\u001b[0m\n\u001b[0;32m----> 1\u001b[0m \u001b[43mstate\u001b[49m\u001b[38;5;241;43m.\u001b[39;49m\u001b[43mdraw\u001b[49m\u001b[43m(\u001b[49m\u001b[38;5;124;43m'\u001b[39;49m\u001b[38;5;124;43mqsphere\u001b[39;49m\u001b[38;5;124;43m'\u001b[39;49m\u001b[43m)\u001b[49m\n",
      "File \u001b[0;32m/usr/local/lib/python3.11/site-packages/qiskit/quantum_info/states/statevector.py:187\u001b[0m, in \u001b[0;36mStatevector.draw\u001b[0;34m(self, output, **drawer_args)\u001b[0m\n\u001b[1;32m    184\u001b[0m \u001b[38;5;66;03m# pylint: disable=cyclic-import\u001b[39;00m\n\u001b[1;32m    185\u001b[0m \u001b[38;5;28;01mfrom\u001b[39;00m \u001b[38;5;21;01mqiskit\u001b[39;00m\u001b[38;5;21;01m.\u001b[39;00m\u001b[38;5;21;01mvisualization\u001b[39;00m\u001b[38;5;21;01m.\u001b[39;00m\u001b[38;5;21;01mstate_visualization\u001b[39;00m \u001b[38;5;28;01mimport\u001b[39;00m state_drawer\n\u001b[0;32m--> 187\u001b[0m \u001b[38;5;28;01mreturn\u001b[39;00m \u001b[43mstate_drawer\u001b[49m\u001b[43m(\u001b[49m\u001b[38;5;28;43mself\u001b[39;49m\u001b[43m,\u001b[49m\u001b[43m \u001b[49m\u001b[43moutput\u001b[49m\u001b[38;5;241;43m=\u001b[39;49m\u001b[43moutput\u001b[49m\u001b[43m,\u001b[49m\u001b[43m \u001b[49m\u001b[38;5;241;43m*\u001b[39;49m\u001b[38;5;241;43m*\u001b[39;49m\u001b[43mdrawer_args\u001b[49m\u001b[43m)\u001b[49m\n",
      "File \u001b[0;32m/usr/local/lib/python3.11/site-packages/qiskit/visualization/state_visualization.py:1463\u001b[0m, in \u001b[0;36mstate_drawer\u001b[0;34m(state, output, **drawer_args)\u001b[0m\n\u001b[1;32m   1461\u001b[0m \u001b[38;5;28;01mtry\u001b[39;00m:\n\u001b[1;32m   1462\u001b[0m     draw_func \u001b[38;5;241m=\u001b[39m drawers[output]\n\u001b[0;32m-> 1463\u001b[0m     \u001b[38;5;28;01mreturn\u001b[39;00m \u001b[43mdraw_func\u001b[49m\u001b[43m(\u001b[49m\u001b[43mstate\u001b[49m\u001b[43m,\u001b[49m\u001b[43m \u001b[49m\u001b[38;5;241;43m*\u001b[39;49m\u001b[38;5;241;43m*\u001b[39;49m\u001b[43mdrawer_args\u001b[49m\u001b[43m)\u001b[49m\n\u001b[1;32m   1464\u001b[0m \u001b[38;5;28;01mexcept\u001b[39;00m \u001b[38;5;167;01mKeyError\u001b[39;00m \u001b[38;5;28;01mas\u001b[39;00m err:\n\u001b[1;32m   1465\u001b[0m     \u001b[38;5;28;01mraise\u001b[39;00m \u001b[38;5;167;01mValueError\u001b[39;00m(\n\u001b[1;32m   1466\u001b[0m         \u001b[38;5;124mf\u001b[39m\u001b[38;5;124m\"\"\"\u001b[39m\u001b[38;5;124m'\u001b[39m\u001b[38;5;132;01m{\u001b[39;00moutput\u001b[38;5;132;01m}\u001b[39;00m\u001b[38;5;124m'\u001b[39m\u001b[38;5;124m is not a valid option for drawing \u001b[39m\u001b[38;5;132;01m{\u001b[39;00m\u001b[38;5;28mtype\u001b[39m(state)\u001b[38;5;241m.\u001b[39m\u001b[38;5;18m__name__\u001b[39m\u001b[38;5;132;01m}\u001b[39;00m\n\u001b[1;32m   1467\u001b[0m \u001b[38;5;124m         objects. Please choose from:\u001b[39m\n\u001b[1;32m   1468\u001b[0m \u001b[38;5;124m        \u001b[39m\u001b[38;5;124m'\u001b[39m\u001b[38;5;124mtext\u001b[39m\u001b[38;5;124m'\u001b[39m\u001b[38;5;124m, \u001b[39m\u001b[38;5;124m'\u001b[39m\u001b[38;5;124mlatex\u001b[39m\u001b[38;5;124m'\u001b[39m\u001b[38;5;124m, \u001b[39m\u001b[38;5;124m'\u001b[39m\u001b[38;5;124mlatex_source\u001b[39m\u001b[38;5;124m'\u001b[39m\u001b[38;5;124m, \u001b[39m\u001b[38;5;124m'\u001b[39m\u001b[38;5;124mqsphere\u001b[39m\u001b[38;5;124m'\u001b[39m\u001b[38;5;124m, \u001b[39m\u001b[38;5;124m'\u001b[39m\u001b[38;5;124mhinton\u001b[39m\u001b[38;5;124m'\u001b[39m\u001b[38;5;124m,\u001b[39m\n\u001b[1;32m   1469\u001b[0m \u001b[38;5;124m        \u001b[39m\u001b[38;5;124m'\u001b[39m\u001b[38;5;124mbloch\u001b[39m\u001b[38;5;124m'\u001b[39m\u001b[38;5;124m, \u001b[39m\u001b[38;5;124m'\u001b[39m\u001b[38;5;124mcity\u001b[39m\u001b[38;5;124m'\u001b[39m\u001b[38;5;124m or \u001b[39m\u001b[38;5;124m'\u001b[39m\u001b[38;5;124mpaulivec\u001b[39m\u001b[38;5;124m'\u001b[39m\u001b[38;5;124m.\u001b[39m\u001b[38;5;124m\"\"\"\u001b[39m\n\u001b[1;32m   1470\u001b[0m     ) \u001b[38;5;28;01mfrom\u001b[39;00m \u001b[38;5;21;01merr\u001b[39;00m\n",
      "File \u001b[0;32m/usr/local/lib/python3.11/site-packages/qiskit/utils/lazy_tester.py:165\u001b[0m, in \u001b[0;36mLazyDependencyManager.require_in_call.<locals>.out\u001b[0;34m(*args, **kwargs)\u001b[0m\n\u001b[1;32m    162\u001b[0m \u001b[38;5;129m@functools\u001b[39m\u001b[38;5;241m.\u001b[39mwraps(function)\n\u001b[1;32m    163\u001b[0m \u001b[38;5;28;01mdef\u001b[39;00m \u001b[38;5;21mout\u001b[39m(\u001b[38;5;241m*\u001b[39margs, \u001b[38;5;241m*\u001b[39m\u001b[38;5;241m*\u001b[39mkwargs):\n\u001b[1;32m    164\u001b[0m     \u001b[38;5;28mself\u001b[39m\u001b[38;5;241m.\u001b[39mrequire_now(feature)\n\u001b[0;32m--> 165\u001b[0m     \u001b[38;5;28;01mreturn\u001b[39;00m \u001b[43mfunction\u001b[49m\u001b[43m(\u001b[49m\u001b[38;5;241;43m*\u001b[39;49m\u001b[43margs\u001b[49m\u001b[43m,\u001b[49m\u001b[43m \u001b[49m\u001b[38;5;241;43m*\u001b[39;49m\u001b[38;5;241;43m*\u001b[39;49m\u001b[43mkwargs\u001b[49m\u001b[43m)\u001b[49m\n",
      "File \u001b[0;32m/usr/local/lib/python3.11/site-packages/qiskit/utils/lazy_tester.py:164\u001b[0m, in \u001b[0;36mLazyDependencyManager.require_in_call.<locals>.out\u001b[0;34m(*args, **kwargs)\u001b[0m\n\u001b[1;32m    162\u001b[0m \u001b[38;5;129m@functools\u001b[39m\u001b[38;5;241m.\u001b[39mwraps(function)\n\u001b[1;32m    163\u001b[0m \u001b[38;5;28;01mdef\u001b[39;00m \u001b[38;5;21mout\u001b[39m(\u001b[38;5;241m*\u001b[39margs, \u001b[38;5;241m*\u001b[39m\u001b[38;5;241m*\u001b[39mkwargs):\n\u001b[0;32m--> 164\u001b[0m     \u001b[38;5;28;43mself\u001b[39;49m\u001b[38;5;241;43m.\u001b[39;49m\u001b[43mrequire_now\u001b[49m\u001b[43m(\u001b[49m\u001b[43mfeature\u001b[49m\u001b[43m)\u001b[49m\n\u001b[1;32m    165\u001b[0m     \u001b[38;5;28;01mreturn\u001b[39;00m function(\u001b[38;5;241m*\u001b[39margs, \u001b[38;5;241m*\u001b[39m\u001b[38;5;241m*\u001b[39mkwargs)\n",
      "File \u001b[0;32m/usr/local/lib/python3.11/site-packages/qiskit/utils/lazy_tester.py:221\u001b[0m, in \u001b[0;36mLazyDependencyManager.require_now\u001b[0;34m(self, feature)\u001b[0m\n\u001b[1;32m    219\u001b[0m \u001b[38;5;28;01mif\u001b[39;00m \u001b[38;5;28mself\u001b[39m:\n\u001b[1;32m    220\u001b[0m     \u001b[38;5;28;01mreturn\u001b[39;00m\n\u001b[0;32m--> 221\u001b[0m \u001b[38;5;28;01mraise\u001b[39;00m MissingOptionalLibraryError(\n\u001b[1;32m    222\u001b[0m     libname\u001b[38;5;241m=\u001b[39m\u001b[38;5;28mself\u001b[39m\u001b[38;5;241m.\u001b[39m_name, name\u001b[38;5;241m=\u001b[39mfeature, pip_install\u001b[38;5;241m=\u001b[39m\u001b[38;5;28mself\u001b[39m\u001b[38;5;241m.\u001b[39m_install, msg\u001b[38;5;241m=\u001b[39m\u001b[38;5;28mself\u001b[39m\u001b[38;5;241m.\u001b[39m_msg\n\u001b[1;32m    223\u001b[0m )\n",
      "\u001b[0;31mMissingOptionalLibraryError\u001b[0m: \"The 'seaborn' library is required to use 'plot_state_qsphere'. You can install it with 'pip install seaborn'.\""
     ]
    }
   ],
   "source": [
    "state.draw('qsphere')"
   ]
  },
  {
   "cell_type": "code",
   "execution_count": 12,
   "metadata": {},
   "outputs": [
    {
     "data": {
      "image/png": "[encoded data removed]",
      "text/plain": [
       "<Figure size 800x500 with 2 Axes>"
      ]
     },
     "execution_count": 12,
     "metadata": {},
     "output_type": "execute_result"
    }
   ],
   "source": [
    "state.draw('hinton')\n",
    "\n"
   ]
  },
  {
   "cell_type": "code",
   "execution_count": 13,
   "metadata": {},
   "outputs": [
    {
     "data": {
      "text/plain": [
       "array([[ 0.70710678+0.j,  0.70710678+0.j,  0.        +0.j,\n",
       "         0.        +0.j,  0.        +0.j,  0.        +0.j,\n",
       "         0.        +0.j,  0.        +0.j],\n",
       "       [ 0.        +0.j,  0.        +0.j,  0.        +0.j,\n",
       "         0.        +0.j,  0.        +0.j,  0.        +0.j,\n",
       "         0.70710678+0.j, -0.70710678+0.j],\n",
       "       [ 0.        +0.j,  0.        +0.j,  0.70710678+0.j,\n",
       "         0.70710678+0.j,  0.        +0.j,  0.        +0.j,\n",
       "         0.        +0.j,  0.        +0.j],\n",
       "       [ 0.        +0.j,  0.        +0.j,  0.        +0.j,\n",
       "         0.        +0.j,  0.70710678+0.j, -0.70710678+0.j,\n",
       "         0.        +0.j,  0.        +0.j],\n",
       "       [ 0.        +0.j,  0.        +0.j,  0.        +0.j,\n",
       "         0.        +0.j,  0.70710678+0.j,  0.70710678+0.j,\n",
       "         0.        +0.j,  0.        +0.j],\n",
       "       [ 0.        +0.j,  0.        +0.j,  0.70710678+0.j,\n",
       "        -0.70710678+0.j,  0.        +0.j,  0.        +0.j,\n",
       "         0.        +0.j,  0.        +0.j],\n",
       "       [ 0.        +0.j,  0.        +0.j,  0.        +0.j,\n",
       "         0.        +0.j,  0.        +0.j,  0.        +0.j,\n",
       "         0.70710678+0.j,  0.70710678+0.j],\n",
       "       [ 0.70710678+0.j, -0.70710678+0.j,  0.        +0.j,\n",
       "         0.        +0.j,  0.        +0.j,  0.        +0.j,\n",
       "         0.        +0.j,  0.        +0.j]])"
      ]
     },
     "execution_count": 13,
     "metadata": {},
     "output_type": "execute_result"
    }
   ],
   "source": [
    "from qiskit.quantum_info import Operator\n",
    "\n",
    "U = Operator(circ)\n",
    "\n",
    "# Show the results\n",
    "U.data\n",
    "\n"
   ]
  },
  {
   "cell_type": "code",
   "execution_count": 14,
   "metadata": {},
   "outputs": [
    {
     "data": {
      "image/png": "[encoded data removed]",
      "text/plain": [
       "<Figure size 705.552x367.889 with 1 Axes>"
      ]
     },
     "execution_count": 14,
     "metadata": {},
     "output_type": "execute_result"
    }
   ],
   "source": [
    "# Create a Quantum Circuit\n",
    "meas = QuantumCircuit(3, 3)\n",
    "meas.barrier(range(3))\n",
    "# map the quantum measurement to the classical bits\n",
    "meas.measure(range(3), range(3))\n",
    "\n",
    "# The Qiskit circuit object supports composition.\n",
    "# Here the meas has to be first and front=True (putting it before)\n",
    "# as compose must put a smaller circuit into a larger one.\n",
    "qc = meas.compose(circ, range(3), front=True)\n",
    "\n",
    "#drawing the circuit\n",
    "qc.draw('mpl')"
   ]
  },
  {
   "cell_type": "code",
   "execution_count": 15,
   "metadata": {},
   "outputs": [],
   "source": [
    "# Adding the transpiler to reduce the circuit to QASM instructions\n",
    "# supported by the backend\n",
    "from qiskit import transpile\n",
    "\n",
    "# Use AerSimulator\n",
    "from qiskit_aer import AerSimulator\n",
    "\n",
    "backend = AerSimulator()\n",
    "\n",
    "# First we have to transpile the quantum circuit\n",
    "# to the low-level QASM instructions used by the\n",
    "# backend\n",
    "qc_compiled = transpile(qc, backend)\n",
    "\n",
    "# Execute the circuit on the qasm simulator.\n",
    "# We've set the number of repeats of the circuit\n",
    "# to be 1024, which is the default.\n",
    "job_sim = backend.run(qc_compiled, shots=1024)\n",
    "\n",
    "# Grab the results from the job.\n",
    "result_sim = job_sim.result()"
   ]
  },
  {
   "cell_type": "code",
   "execution_count": 16,
   "metadata": {},
   "outputs": [
    {
     "name": "stdout",
     "output_type": "stream",
     "text": [
      "{'111': 545, '000': 479}\n"
     ]
    }
   ],
   "source": [
    "counts = result_sim.get_counts(qc_compiled)\n",
    "print(counts)\n",
    "\n"
   ]
  },
  {
   "cell_type": "code",
   "execution_count": 17,
   "metadata": {},
   "outputs": [
    {
     "data": {
      "image/png": "[encoded data removed]",
      "text/plain": [
       "<Figure size 640x480 with 1 Axes>"
      ]
     },
     "execution_count": 17,
     "metadata": {},
     "output_type": "execute_result"
    }
   ],
   "source": [
    "from qiskit.visualization import plot_histogram\n",
    "plot_histogram(counts)\n",
    "\n"
   ]
  },
  {
   "cell_type": "markdown",
   "metadata": {},
   "source": [
    "## Quantum Entanglement"
   ]
  },
  {
   "cell_type": "markdown",
   "metadata": {},
   "source": [
    "Qubits kunnen door een slimme combinatie van poorten in een bepaalde superpositie worden gebracht waarbij ze maximale informatiedeling hebben. dat wil zeggen dat als 1 qubit wordt gemeten en dus een vaste meetwaarde heeft, de meetwaarde van de andere qubit ook gekend is **zonder te moeten meten**. Deze eigenschap is bijna een soort van magie: de entangled (Nederlands: verstrengelde) qubits zijn niet fysiek met elkaar verbonden. Albert Einstein zelf noemde het 'spooky action at a distance'. In Nederland, aan het QuTech lab van de TUDelft (https://www.tudelft.nl/en/2021/tu-delft/dutch-researchers-establish-the-first-entanglement-based-quantum-network), is men erin geslaagd om over een afstand van meer dan 30 meter zo informatie uit te wisselen. Het is belangrijk te beseffen dat dit gebeurt zonder internet, wifi of dergelijke: énkel door de eigenschappen van qubits.\n",
    "\n",
    "Voor 2 qubits zijn er 4 states met maximale entanglement; dit zijn de Bell states (ze worden ook wel EPR-pairs genoemd, naar Einstein-Podolsky-Rosen):\n",
    "- $$\\ket{\\Phi^{+}} = \\frac{\\ket{00} + \\ket{11}}{\\sqrt{2}} $$\n",
    "- $$\\ket{\\Phi^{-}} = \\frac{\\ket{00} - \\ket{11}}{\\sqrt{2}} $$\n",
    "- $$\\ket{\\Psi^{+}} = \\frac{\\ket{01} + \\ket{10}}{\\sqrt{2}} $$\n",
    "- $$\\ket{\\Psi^{-}} = \\frac{\\ket{01} - \\ket{11}}{\\sqrt{2}} $$\n",
    "\n",
    "Oefening\n",
    "\n",
    "Creëer verschillende Bell States, met behulp van de Hadamard, CNOT en andere gates. Meet verschillende keren de waarde van deze states en observeer het resultaat. Je mag hier opzoeken (https://en.wikipedia.org/wiki/Bell_state) en/of chatGPT gebruiken ter assistentie."
   ]
  },
  {
   "cell_type": "code",
   "execution_count": 18,
   "metadata": {},
   "outputs": [
    {
     "name": "stdout",
     "output_type": "stream",
     "text": [
      "\n",
      "Total count for 00 and 11 are: {'00': 480, '11': 520}\n"
     ]
    },
    {
     "data": {
      "image/png": "[encoded data removed]",
      "text/plain": [
       "<Figure size 454.517x284.278 with 1 Axes>"
      ]
     },
     "execution_count": 18,
     "metadata": {},
     "output_type": "execute_result"
    }
   ],
   "source": [
    "#code\n",
    "from qiskit import QuantumCircuit, transpile\n",
    "from qiskit_aer import AerSimulator\n",
    "from qiskit.visualization import plot_histogram\n",
    "\n",
    "# Use Aer's AerSimulator\n",
    "simulator = AerSimulator()\n",
    "\n",
    "# Create a Quantum Circuit acting on the q register\n",
    "circuit = QuantumCircuit(2, 2)\n",
    "\n",
    "# Add a H gate on qubit 0\n",
    "circuit.h(0)\n",
    "\n",
    "# Add a CX (CNOT) gate on control qubit 0 and target qubit 1\n",
    "circuit.cx(0, 1)\n",
    "\n",
    "# Map the quantum measurement to the classical bits\n",
    "circuit.measure([0, 1], [0, 1])\n",
    "\n",
    "# Compile the circuit for the support instruction set (basis_gates)\n",
    "# and topology (coupling_map) of the backend\n",
    "compiled_circuit = transpile(circuit, simulator)\n",
    "\n",
    "# Execute the circuit on the aer simulator\n",
    "job = simulator.run(compiled_circuit, shots=1000)\n",
    "\n",
    "# Grab results from the job\n",
    "result = job.result()\n",
    "\n",
    "# Returns counts\n",
    "counts = result.get_counts(compiled_circuit)\n",
    "print(\"\\nTotal count for 00 and 11 are:\", counts)\n",
    "\n",
    "# Draw the circuit\n",
    "circuit.draw(\"mpl\")"
   ]
  },
  {
   "cell_type": "code",
   "execution_count": 21,
   "metadata": {},
   "outputs": [
    {
     "name": "stdout",
     "output_type": "stream",
     "text": [
      "Statevector([0.70710678+0.j, 0.        +0.j, 0.        +0.j,\n",
      "             0.70710678+0.j],\n",
      "            dims=(2, 2))\n"
     ]
    }
   ],
   "source": [
    "#ChatGPT oplossing:\n",
    "from qiskit import QuantumCircuit\n",
    "from qiskit_aer import Aer\n",
    "\n",
    "# Create a quantum circuit with 2 qubits\n",
    "bell_phi_plus = QuantumCircuit(2)\n",
    "\n",
    "# Apply Hadamard gate on the first qubit\n",
    "bell_phi_plus.h(0)\n",
    "\n",
    "# Apply a CNOT gate with the first qubit as the control and the second qubit as the target\n",
    "bell_phi_plus.cx(0, 1)\n",
    "\n",
    "# Simulate the circuit\n",
    "simulator = Aer.get_backend('statevector_simulator')\n",
    "job = simulator.run(bell_phi_plus)\n",
    "result = job.result()\n",
    "\n",
    "# Print the statevector\n",
    "statevector = result.get_statevector()\n",
    "print(statevector)"
   ]
  },
  {
   "cell_type": "code",
   "execution_count": 22,
   "metadata": {},
   "outputs": [
    {
     "data": {
      "text/latex": [
       "$$\\frac{\\sqrt{2}}{2} |00\\rangle+\\frac{\\sqrt{2}}{2} |11\\rangle$$"
      ],
      "text/plain": [
       "<IPython.core.display.Latex object>"
      ]
     },
     "execution_count": 22,
     "metadata": {},
     "output_type": "execute_result"
    }
   ],
   "source": [
    "statevector.draw('latex')"
   ]
  },
  {
   "cell_type": "code",
   "execution_count": 23,
   "metadata": {},
   "outputs": [
    {
     "name": "stdout",
     "output_type": "stream",
     "text": [
      "Statevector([0.70710678+0.j, 0.        +0.j, 0.        +0.j,\n",
      "             0.70710678+0.j],\n",
      "            dims=(2, 2))\n"
     ]
    },
    {
     "data": {
      "text/latex": [
       "$$\\frac{\\sqrt{2}}{2} |00\\rangle+\\frac{\\sqrt{2}}{2} |11\\rangle$$"
      ],
      "text/plain": [
       "<IPython.core.display.Latex object>"
      ]
     },
     "execution_count": 23,
     "metadata": {},
     "output_type": "execute_result"
    }
   ],
   "source": [
    "# Create a new quantum circuit for |Φ⁻⟩\n",
    "bell_phi_minus = QuantumCircuit(2)\n",
    "\n",
    "# Apply a Hadamard gate to the first qubit\n",
    "bell_phi_minus.h(0)\n",
    "\n",
    "# Apply a CNOT gate with the first qubit as control and the second qubit as target\n",
    "bell_phi_minus.cx(0, 1)\n",
    "\n",
    "# Apply a Pauli-X gate to both qubits\n",
    "bell_phi_minus.x(0)\n",
    "bell_phi_minus.x(1)\n",
    "\n",
    "# Simulate and print the statevector\n",
    "job = simulator.run(bell_phi_plus)\n",
    "result = job.result()\n",
    "\n",
    "statevector = result.get_statevector()\n",
    "print(statevector)\n",
    "statevector.draw('latex')"
   ]
  },
  {
   "cell_type": "code",
   "execution_count": 24,
   "metadata": {},
   "outputs": [
    {
     "name": "stdout",
     "output_type": "stream",
     "text": [
      "Statevector([0.70710678+0.j, 0.        +0.j, 0.        +0.j,\n",
      "             0.70710678+0.j],\n",
      "            dims=(2, 2))\n"
     ]
    },
    {
     "data": {
      "text/latex": [
       "$$\\frac{\\sqrt{2}}{2} |00\\rangle+\\frac{\\sqrt{2}}{2} |11\\rangle$$"
      ],
      "text/plain": [
       "<IPython.core.display.Latex object>"
      ]
     },
     "execution_count": 24,
     "metadata": {},
     "output_type": "execute_result"
    }
   ],
   "source": [
    "# Create a new quantum circuit for |Ψ⁺⟩\n",
    "bell_psi_plus = QuantumCircuit(2)\n",
    "\n",
    "# Apply a Hadamard gate to the first qubit\n",
    "bell_psi_plus.h(0)\n",
    "\n",
    "# Apply an X gate to the second qubit\n",
    "bell_psi_plus.x(1)\n",
    "\n",
    "# Apply a CNOT gate with the first qubit as control and the second qubit as target\n",
    "bell_psi_plus.cx(0, 1)\n",
    "\n",
    "# Simulate and print the statevector\n",
    "job = simulator.run(bell_phi_plus)\n",
    "result = job.result()\n",
    "\n",
    "statevector = result.get_statevector()\n",
    "print(statevector)\n",
    "statevector.draw('latex')"
   ]
  },
  {
   "cell_type": "code",
   "execution_count": 25,
   "metadata": {},
   "outputs": [
    {
     "name": "stdout",
     "output_type": "stream",
     "text": [
      "Statevector([0.70710678+0.j, 0.        +0.j, 0.        +0.j,\n",
      "             0.70710678+0.j],\n",
      "            dims=(2, 2))\n"
     ]
    },
    {
     "data": {
      "text/latex": [
       "$$\\frac{\\sqrt{2}}{2} |00\\rangle+\\frac{\\sqrt{2}}{2} |11\\rangle$$"
      ],
      "text/plain": [
       "<IPython.core.display.Latex object>"
      ]
     },
     "execution_count": 25,
     "metadata": {},
     "output_type": "execute_result"
    }
   ],
   "source": [
    "# Create a new quantum circuit for |Ψ⁻⟩\n",
    "bell_psi_minus = QuantumCircuit(2)\n",
    "\n",
    "# Apply a Hadamard gate to the first qubit\n",
    "bell_psi_minus.h(0)\n",
    "\n",
    "# Apply an X gate to the second qubit\n",
    "bell_psi_minus.x(1)\n",
    "\n",
    "# Apply a CNOT gate with the first qubit as control and the second qubit as target\n",
    "bell_psi_minus.cx(0, 1)\n",
    "\n",
    "# Apply a Pauli-X gate to both qubits\n",
    "bell_psi_minus.x(0)\n",
    "bell_psi_minus.x(1)\n",
    "\n",
    "# Simulate and print the statevector\n",
    "job = simulator.run(bell_phi_plus)\n",
    "result = job.result()\n",
    "\n",
    "statevector = result.get_statevector()\n",
    "print(statevector)\n",
    "statevector.draw('latex')"
   ]
  },
  {
   "cell_type": "markdown",
   "metadata": {},
   "source": [
    "# Teleportation\n",
    "\n",
    "Een ander voorbeeld van het gebruik van entangled qubits (ter illustratie)"
   ]
  },
  {
   "cell_type": "code",
   "execution_count": 27,
   "metadata": {},
   "outputs": [
    {
     "name": "stdout",
     "output_type": "stream",
     "text": [
      "Measurement results: {'101': 263, '100': 237, '110': 246, '111': 278}\n"
     ]
    },
    {
     "data": {
      "image/png": "[encoded data removed]",
      "text/plain": [
       "<Figure size 640x480 with 1 Axes>"
      ]
     },
     "execution_count": 27,
     "metadata": {},
     "output_type": "execute_result"
    }
   ],
   "source": [
    "from qiskit import QuantumCircuit\n",
    "from qiskit_aer import Aer\n",
    "from qiskit.visualization import plot_histogram\n",
    "\n",
    "# Create a quantum circuit with 3 qubits (Alice's qubit, the entangled pair, and Bob's qubit)\n",
    "teleportation_circuit = QuantumCircuit(3, 3)\n",
    "\n",
    "# Step 1: Prepare the entangled Bell pair |Φ⁺⟩ (00 + 11) / √2\n",
    "teleportation_circuit.h(1)  # Apply Hadamard gate to create entanglement\n",
    "teleportation_circuit.cx(1, 2)  # Apply CNOT gate\n",
    "\n",
    "# Step 2: Alice prepares her qubit |ψ⟩ to be teleported\n",
    "teleportation_circuit.x(0)  # Apply a Pauli-X gate (bit flip) for demonstration\n",
    "\n",
    "# Step 3: Bell measurement by Alice (CX and H gates)\n",
    "teleportation_circuit.cx(0, 1)\n",
    "teleportation_circuit.h(0)\n",
    "\n",
    "# Step 4: Measurement by Alice\n",
    "teleportation_circuit.measure(0, 0)\n",
    "teleportation_circuit.measure(1, 1)\n",
    "\n",
    "# Step 5: Alice sends the measurement results to Bob\n",
    "\n",
    "# Step 6: Bob performs conditional operations based on Alice's measurements\n",
    "teleportation_circuit.barrier()  # Add a barrier for clarity\n",
    "\n",
    "teleportation_circuit.z(2).c_if(0, 1)  # Conditional Z gate\n",
    "teleportation_circuit.x(2).c_if(1, 1)  # Conditional X gate\n",
    "\n",
    "# Step 7: Measurement by Bob\n",
    "teleportation_circuit.measure(2, 2)\n",
    "\n",
    "# Simulate the circuit and print results\n",
    "simulator = Aer.get_backend('qasm_simulator')\n",
    "job = simulator.run(teleportation_circuit, shots=1024)\n",
    "result = job.result()\n",
    "counts = result.get_counts()\n",
    "print(\"Measurement results:\", counts)\n",
    "\n",
    "# Visualize the circuit and results\n",
    "teleportation_circuit.draw(output='mpl')\n",
    "plot_histogram(counts)"
   ]
  },
  {
   "cell_type": "markdown",
   "metadata": {},
   "source": [
    "## Superdense Coding"
   ]
  },
  {
   "cell_type": "code",
   "execution_count": 28,
   "metadata": {},
   "outputs": [],
   "source": [
    "import qiskit\n",
    "from qiskit import ClassicalRegister, QuantumRegister, QuantumCircuit\n",
    "#from qiskit import IBMQ\n",
    "from configparser import RawConfigParser\n",
    "\n",
    "type = 'real' # keuze om uit te voeren op een 'echte' quantum computer of een simulator\n",
    "type = 'sim'\n",
    "\n",
    "def run(program, type, shots = 1024):\n",
    "  if type == 'real':\n",
    "    if not run.isInit:\n",
    "        # Setup the API key for the real quantum computer.\n",
    "        parser = RawConfigParser()\n",
    "        parser.read('config.ini')\n",
    "        IBMQ.enable_account(parser.get('IBM', 'key'))\n",
    "        run.isInit = True\n",
    "\n",
    "    # Set backend server\n",
    "    backend = qiskit.providers.ibmq.least_busy(qiskit.IBMQ.backends(simulator=False))\n",
    "\n",
    "    # Uitvoeren op een quantum computer\n",
    "    print(\"Running on\", backend.name())\n",
    "    job = qiskit.execute(program, backend)\n",
    "    return job.result().get_counts()\n",
    "  else:\n",
    "    # Uitvoeren op een simulator\n",
    "    print(\"Running on the simulator.\")\n",
    "    simulator = Aer.get_backend('qasm_simulator')\n",
    "    transpiled_program = transpile(program, simulator)\n",
    "    job = simulator.run(transpiled_program, shots=shots)\n",
    "    return job.result().get_counts()\n",
    "\n",
    "run.isInit = False"
   ]
  },
  {
   "cell_type": "code",
   "execution_count": null,
   "metadata": {},
   "outputs": [
    {
     "ename": "",
     "evalue": "",
     "output_type": "error",
     "traceback": [
      "\u001b[1;31mRunning cells with 'Python 3.7.9' requires the ipykernel package.\n",
      "\u001b[1;31mRun the following command to install 'ipykernel' into the Python environment. \n",
      "\u001b[1;31mCommand: 'c:/Users/Bruno/AppData/Local/Microsoft/WindowsApps/python3.7.exe -m pip install ipykernel -U --user --force-reinstall'"
     ]
    }
   ],
   "source": [
    "\n",
    "\n",
    "# Voorbeeld 3: Superdense coding: stuur two classical bits van informatie  (01) terwijl we maar 1 qubit manipuleren: \n",
    "\n",
    "# Dit gaat door een Bell state ongedaan te maken: Entangle 2 qubits, met de eerste in superpositie, \n",
    "# Maak dan de stappen achteruit ongedaan. \n",
    "# De eerste qubit is van Alice, de zender.\n",
    "# De tweede qubit is van Bob, de ontvanger.\n",
    "# Alice past haar qubit qr[0] aan om uiteindelijk 01 aan te geven aan Bob.\n",
    "# Bob zal de qubit van Alice 'reverse' entangelen en uit superpositie halen en de resultaten meten, \n",
    "# en Bob zal dan  01 krijgen uit de qubits (zijn qubit zal in 1 wijzigen).\n",
    "\n",
    "# Setup qubits.\n",
    "qr = QuantumRegister(2)\n",
    "cr = ClassicalRegister(2)\n",
    "program = QuantumCircuit(qr, cr);\n",
    "\n",
    "# Zender: Eerste qubit in superpositie brengen.\n",
    "program.h(qr[0]) # Gebruik de Hadamard Gate\n",
    "\n",
    "# Zender: Entangle de qubits met een  controlled NOT operator. Als de eerste qubit 1 is, wordt de tweede qubit geïnverteerd. \n",
    "program.cx(qr[0], qr[1])\n",
    "#~~\n",
    "# Verzender: Inverteer de eerste qubit om deze  van 0 naar 1 te zetten (remember, we willen 01 voorstellen met slechts manipulatie van de eertse qubit q[0]).\n",
    "# 00  I  - identiteit, niets doen\n",
    "# 01  Z  - program.z(qr[0])\n",
    "# 10  X  - program.x(qr[0])\n",
    "# 11  XZ - program.x(qr[0]) program.z(qr[0])\n",
    "#program.x(qr[0])\n",
    "program.z(qr[0]) #Z is the phase operator\n",
    "#program.x(qr[0]) #X is the invert operator, oftewel the not gate\n",
    "\n",
    "# Ontvanger: Herhaal de controlled NOT operator, om de entanglement ongedaan te maken.\n",
    "program.cx(qr[0], qr[1])\n",
    "\n",
    "# Ontvanger: Herhaal de Hadamard, om de superposition state ongedaan te maken.\n",
    "program.h(qr[0])\n",
    "\n",
    "# Ontvanger: meet de waarde van de qubits, nu kunnen we de originele waardes terugkrijgen.\n",
    "program.measure(qr, cr);\n",
    "\n",
    "# Execute the program.\n",
    "print(run(program, type))"
   ]
  },
  {
   "cell_type": "code",
   "execution_count": null,
   "metadata": {},
   "outputs": [],
   "source": []
  }
 ],
 "metadata": {
  "kernelspec": {
   "display_name": "Python 3",
   "language": "python",
   "name": "python3"
  },
  "language_info": {
   "codemirror_mode": {
    "name": "ipython",
    "version": 3
   },
   "file_extension": ".py",
   "mimetype": "text/x-python",
   "name": "python",
   "nbconvert_exporter": "python",
   "pygments_lexer": "ipython3",
   "version": "3.7.9"
  }
 },
 "nbformat": 4,
 "nbformat_minor": 2
}
