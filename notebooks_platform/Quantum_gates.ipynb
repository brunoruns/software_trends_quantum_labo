{
 "cells": [
  {
   "cell_type": "code",
   "execution_count": 1,
   "id": "042b109e-1be8-4619-a472-5a5d62da5744",
   "metadata": {},
   "outputs": [],
   "source": [
    "import qiskit\n",
    "from qiskit import transpile, ClassicalRegister, QuantumRegister, QuantumCircuit\n",
    "from qiskit_aer import Aer\n",
    "#from qiskit import IBMQ\n",
    "from configparser import RawConfigParser"
   ]
  },
  {
   "cell_type": "code",
   "execution_count": 2,
   "id": "dc62a5be-a2c6-4887-bc43-1ee68d15c20d",
   "metadata": {},
   "outputs": [],
   "source": [
    "type = 'real' # Run program on the simulator or real quantum machine.\n",
    "type = 'sim'\n",
    "\n",
    "def run(program, type, shots = 1024):\n",
    "  if type == 'real':\n",
    "    if not run.isInit:\n",
    "        # Setup the API key for the real quantum computer.\n",
    "        parser = RawConfigParser()\n",
    "        parser.read('config.ini')\n",
    "        IBMQ.enable_account(parser.get('IBM', 'key'))\n",
    "        run.isInit = True\n",
    "\n",
    "    # Set the backend server.\n",
    "    backend = qiskit.providers.ibmq.least_busy(qiskit.IBMQ.backends(simulator=False))\n",
    "\n",
    "    # Execute the program on the quantum machine.\n",
    "    print(\"Running on\", backend.name())\n",
    "    job = qiskit.execute(program, backend)\n",
    "    return job.result().get_counts()\n",
    "  else:\n",
    "    # Execute the program in the simulator.\n",
    "    print(\"Running on the simulator.\")\n",
    "    simulator = Aer.get_backend('qasm_simulator')\n",
    "    transpiled_program = transpile(program, simulator)\n",
    "    job = simulator.run(transpiled_program, shots=shots)\n",
    "    return job.result().get_counts()\n",
    "\n",
    "run.isInit = False"
   ]
  },
  {
   "cell_type": "markdown",
   "id": "7e7d8537-8d57-49a7-8452-9fa7eaaa4f0b",
   "metadata": {},
   "source": [
    "## Hello World"
   ]
  },
  {
   "cell_type": "code",
   "execution_count": 3,
   "id": "4b13cd62-ba22-4bd4-99d3-a6a307b24d4a",
   "metadata": {},
   "outputs": [],
   "source": [
    "qr = QuantumRegister(2)\n",
    "cr = ClassicalRegister(2)\n",
    "program = QuantumCircuit(qr, cr);"
   ]
  },
  {
   "cell_type": "code",
   "execution_count": 5,
   "id": "1868b045-5544-4491-8cb7-116a6d41d78d",
   "metadata": {},
   "outputs": [
    {
     "name": "stdout",
     "output_type": "stream",
     "text": [
      "Running on the simulator.\n",
      "{'00': 1024}\n"
     ]
    }
   ],
   "source": [
    "program.measure(qr, cr)\n",
    "print(run(program, type))"
   ]
  },
  {
   "cell_type": "markdown",
   "id": "5ce9d88d-5beb-44db-9f18-596c835aa583",
   "metadata": {},
   "source": [
    "## superposition"
   ]
  },
  {
   "cell_type": "code",
   "execution_count": 6,
   "id": "74efe1a7-351d-4865-beeb-8b341a1ba597",
   "metadata": {},
   "outputs": [
    {
     "name": "stdout",
     "output_type": "stream",
     "text": [
      "Running on the simulator.\n",
      "{'00': 535, '11': 489}\n"
     ]
    }
   ],
   "source": [
    "# setupqubits.\n",
    "qr = QuantumRegister(2)\n",
    "cr = ClassicalRegister(2)\n",
    "program = QuantumCircuit(qr, cr);\n",
    "\n",
    "# superpositie van eerste qubit\n",
    "program.h(qr[0]) # hadamard gate\n",
    "# entangle subit 1 en qubit 2\n",
    "program.cx(qr[0], qr[1])\n",
    "# Meet de qubits\n",
    "program.measure(qr, cr);\n",
    "\n",
    "# Execute the program.\n",
    "print(run(program, type))"
   ]
  },
  {
   "cell_type": "markdown",
   "id": "4ecd740b-e71b-4547-9a6e-1f0f078cc541",
   "metadata": {},
   "source": [
    "# een programma om informatie te versturen van Zender naar Ontvanger"
   ]
  },
  {
   "cell_type": "code",
   "execution_count": 10,
   "id": "f7714adf-a429-4fec-a508-f3fa9cb0a9e3",
   "metadata": {},
   "outputs": [
    {
     "name": "stdout",
     "output_type": "stream",
     "text": [
      "Running on the simulator.\n",
      "{'11': 1024}\n"
     ]
    }
   ],
   "source": [
    "# Setup qubits.\n",
    "qr = QuantumRegister(2)\n",
    "cr = ClassicalRegister(2)\n",
    "program = QuantumCircuit(qr, cr);\n",
    "\n",
    "# Zender: breng qubit 0 in superpositie\n",
    "program.h(qr[0])\n",
    "# Zender: entangle qubit 0 en qubit 1\n",
    "program.cx(qr[0], qr[1])\n",
    "\n",
    "## intermezzo: geef de 2e qubit aan de ontvanger. Momenteel is er nog geen informatie op het kanaal doorgegeven.\n",
    "## we willen nu aan de ontvanger de boodschap (1) doorgaven. Hiervoor willen we zorgen dat nadat de \n",
    "\n",
    "# Zender : Invert the first qubit to set it from 0 to 1 (we willen 11 krijgen maar manipeleren enkel de eerste qubit vanaf nu q[0]).\n",
    "# 00  I  - Identity nothing to do\n",
    "# 10  X  - program.x(qr[0])\n",
    "# 01  Z  - program.z(qr[0])\n",
    "# 11  XZ - program.x(qr[0]) program.z(qr[0])\n",
    "program.z(qr[0]) # Z is the 'minus' operator: 0 maps to 0, 1 to -1\n",
    "program.x(qr[0]) # X is the invert operator, or the NOT gate\n",
    "\n",
    "# Zender: undo entanglement\n",
    "program.cx(qr[0], qr[1])\n",
    "# Zender: undo superposition\n",
    "program.h(qr[0])\n",
    "\n",
    "\n",
    "# Ontvanger: Measure the value of the qubits, we krijgen de originele waardes terug\n",
    "program.measure(qr, cr);\n",
    "\n",
    "# Execute the program.\n",
    "print(run(program, type))"
   ]
  },
  {
   "cell_type": "markdown",
   "id": "ce4388b2-5de5-473c-8353-e11828349bfb",
   "metadata": {},
   "source": [
    "# Superdense coding"
   ]
  },
  {
   "cell_type": "code",
   "execution_count": null,
   "id": "281c223a-28b8-418f-ae3b-f879c151ed86",
   "metadata": {},
   "outputs": [
    {
     "name": "stdout",
     "output_type": "stream",
     "text": [
      "Running on the simulator.\n",
      "{'01': 1024}\n"
     ]
    }
   ],
   "source": [
    "# een programma \n",
    "# Setup qubits.\n",
    "qr = QuantumRegister(2)\n",
    "cr = ClassicalRegister(2)\n",
    "program = QuantumCircuit(qr, cr);\n",
    "\n",
    "# Sender: superpoition\n",
    "program.h(qr[0])\n",
    "# Sender: entanglement\n",
    "program.cx(qr[0], qr[1])\n",
    "\n",
    "# Sender: Invert the first qubit to set it from 0 to 1\n",
    "# 00  I  - Identity nothing to do\n",
    "# 10  X  - program.x(qr[0])\n",
    "# 01  Z  - program.z(qr[0])\n",
    "# 11  XZ - program.x(qr[0]) program.z(qr[0])\n",
    "program.z(qr[0])\n",
    "\n",
    "# Receiver: Repeat the controlled NOT operator, reversing the entanglement.\n",
    "program.cx(qr[0], qr[1])\n",
    "\n",
    "# Receiver: Repeat the Hadamard, reversing the superposition state.\n",
    "program.h(qr[0])\n",
    "\n",
    "# Receiver: Measure the value of the qubits, we should get back the original values.\n",
    "program.measure(qr, cr);\n",
    "\n",
    "# Execute the program.\n",
    "print(run(program, type))"
   ]
  },
  {
   "cell_type": "code",
   "execution_count": null,
   "id": "3e2afba4-5a13-4b42-a488-7253e1803367",
   "metadata": {},
   "outputs": [],
   "source": []
  }
 ],
 "metadata": {
  "kernelspec": {
   "display_name": "Python 3",
   "language": "python",
   "name": "python3"
  },
  "language_info": {
   "codemirror_mode": {
    "name": "ipython",
    "version": 3
   },
   "file_extension": ".py",
   "mimetype": "text/x-python",
   "name": "python",
   "nbconvert_exporter": "python",
   "pygments_lexer": "ipython3",
   "version": "3.11.13"
  },
  "widgets": {
   "application/vnd.jupyter.widget-state+json": {
    "state": {},
    "version_major": 2,
    "version_minor": 0
   }
  }
 },
 "nbformat": 4,
 "nbformat_minor": 5
}
