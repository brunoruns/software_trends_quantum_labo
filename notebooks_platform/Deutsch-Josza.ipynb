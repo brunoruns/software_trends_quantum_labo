{
 "cells": [
  {
   "cell_type": "code",
   "execution_count": 1,
   "id": "67d4c869-6500-4a9d-83f9-c4c6c4a53ea5",
   "metadata": {},
   "outputs": [],
   "source": [
    "\n",
    "#\n",
    "# Het Deutsch Josza Algorithm: \n",
    "# 1 berekening op een quantum computer kan het oplossen, vergeleken met verschillende stappen in het klassieke geval\n",
    "#\n",
    "\n",
    "import qiskit\n",
    "from qiskit import transpile, ClassicalRegister, QuantumRegister, QuantumCircuit\n",
    "from qiskit_aer import Aer\n",
    "import numpy as np\n",
    "#from qiskit import IBMQ\n",
    "from configparser import RawConfigParser\n",
    "\n",
    "type = 'sim' # Run program on the simulator or real quantum machine.\n",
    "\n",
    "def run(program, type, shots = 100):\n",
    "  if type == 'real':\n",
    "    if not run.isInit:\n",
    "        # Setup the API key for the real quantum computer.\n",
    "        parser = RawConfigParser()\n",
    "        parser.read('config.ini') #je moet de key via het platform opvragen en in een config;ini file lokaal opslaan.\n",
    "        IBMQ.enable_account(parser.get('IBM', 'key'))\n",
    "        run.isInit = True\n",
    "\n",
    "    # Set the backend server.\n",
    "    backend = qiskit.providers.ibmq.least_busy(qiskit.IBMQ.backends(simulator=False))\n",
    "\n",
    "    # uitvoeren op quantum\n",
    "    print(\"Running on\", backend.name())\n",
    "    job = qiskit.execute(program, backend)\n",
    "    return job.result().get_counts()\n",
    "  else:\n",
    "    # uitvoeren op simulator\n",
    "    print(\"Running on the simulator.\")\n",
    "    simulator = Aer.get_backend('qasm_simulator')\n",
    "    transpiled_program = transpile(program, simulator)\n",
    "    job = simulator.run(transpiled_program, shots=shots)\n",
    "    return job.result().get_counts()\n",
    "\n",
    "run.isInit = False"
   ]
  },
  {
   "cell_type": "markdown",
   "id": "7413b576-7642-414b-9c7b-86538e48404b",
   "metadata": {},
   "source": [
    "# Deutsch-Josza"
   ]
  },
  {
   "cell_type": "markdown",
   "id": "e8311ccd-69e3-47b7-b835-354d9161e512",
   "metadata": {},
   "source": [
    "Initialisatie"
   ]
  },
  {
   "cell_type": "code",
   "execution_count": 8,
   "id": "387ae622-de0a-4ab2-a687-ffe93d3f46bc",
   "metadata": {},
   "outputs": [
    {
     "name": "stdout",
     "output_type": "stream",
     "text": [
      "1\n",
      "The oracle is balanced.\n"
     ]
    }
   ],
   "source": [
    "# Op hoeveel bits ?\n",
    "n = 3\n",
    "\n",
    "# De string die we gaan testen, even random initialiseren\n",
    "oracleType = np.random.randint(2)\n",
    "oracleValue = np.random.randint(2)\n",
    "print(oracleValue)\n",
    "\n",
    "print(\"The oracle is constant.\") if oracleType == 0 else print(\"The oracle is balanced.\")\n",
    "\n"
   ]
  },
  {
   "cell_type": "markdown",
   "id": "33174577-f553-4b0c-b872-9a931ba55080",
   "metadata": {},
   "source": [
    "Qubits creëren, koppelen aan QuantumCircuit, superpositie maken met alle qubits behalve de laatste; die laatste qubit inverteren en dan andere superpositie maken ( |-> state ipv |+> state voor de laatste."
   ]
  },
  {
   "cell_type": "code",
   "execution_count": 3,
   "id": "07d2bb40-e56e-4d26-8b65-b5748f63abbf",
   "metadata": {},
   "outputs": [
    {
     "data": {
      "text/plain": [
       "<qiskit.circuit.instructionset.InstructionSet at 0x7f492b3c9630>"
      ]
     },
     "execution_count": 3,
     "metadata": {},
     "output_type": "execute_result"
    }
   ],
   "source": [
    "# Create n + 1 qubits voor de input array, allemaal initieel op 0, met een extra qubit voor het antwoord.\n",
    "qr = QuantumRegister(n + 1)\n",
    "# Create n registers voor output.\n",
    "cr = ClassicalRegister(n)\n",
    "program = QuantumCircuit(qr, cr)\n",
    "\n",
    "# Superpositie maken\n",
    "for i in range(n):\n",
    "  program.h(qr[i]) # Hadamard gate\n",
    "\n",
    "# Inverteer de laatste qubit naar 1 (die stelt het antwoord voor) en maak superpositie.\n",
    "program.x(qr[n])\n",
    "program.h(qr[n])\n"
   ]
  },
  {
   "cell_type": "markdown",
   "id": "3c795501-bd29-497c-8025-6c356fbab723",
   "metadata": {},
   "source": [
    "In de code hieronder gaan we de 'oracle function' waarvan we willen bepalen of ze constant dan wel gebalanceerd is, definiëren. Dit is dus allemaal 'problem setup'."
   ]
  },
  {
   "cell_type": "code",
   "execution_count": 11,
   "id": "07f1ae8f-bb98-42c0-807f-ef387d043cd4",
   "metadata": {},
   "outputs": [
    {
     "data": {
      "text/plain": [
       "CircuitInstruction(operation=Instruction(name='barrier', num_qubits=4, num_clbits=0, params=[]), qubits=(Qubit(QuantumRegister(4, 'q1'), 0), Qubit(QuantumRegister(4, 'q1'), 1), Qubit(QuantumRegister(4, 'q1'), 2), Qubit(QuantumRegister(4, 'q1'), 3)), clbits=())"
      ]
     },
     "execution_count": 11,
     "metadata": {},
     "output_type": "execute_result"
    }
   ],
   "source": [
    "# Een barrier dient puur om aan te geven waar bepaalde stukken samenhoren.\n",
    "# hier duiden we de start aan van het maken van de oracle functie.\n",
    "program.barrier()\n",
    "\n",
    "if oracleType == 0:\n",
    "  # Constant oracle: oracleValue is de return voor elke mogelijke input.\n",
    "  # oracle is constant, \n",
    "  if oracleValue == 1:\n",
    "    # Inverteer de laatste qubit.\n",
    "    program.x(qr[n])\n",
    "  else:\n",
    "    # doe niks met de laatste qubit.\n",
    "    program.iden(qr[n]) # dit doet niks, het is de 'identity function'\n",
    "else:\n",
    "    # gebalanceerd, dus het oracle geeft de helft van de opties 0, de andere helft 1\n",
    "  for i in range(n):\n",
    "    # Set the qubit to return the inner product of the input with a non-zero bitstring.\n",
    "    \n",
    "    if (n & (1 << i)): # bit shift operator, vervolgens AND bit operator\n",
    "      # controlled not tussen input qubit en output subit (de laatste subit)\n",
    "      program.cx(qr[i], qr[n])\n",
    "\n",
    "# einde van het oracle process\n",
    "program.barrier()"
   ]
  },
  {
   "cell_type": "markdown",
   "id": "b3f8e3d0-26de-4acd-aaa5-03a632f751e1",
   "metadata": {},
   "source": [
    "Nu hebben we de qubits dus in de vorm die we willen om het probleem in met 1 meting per qubit op te lossen. dat vergt dus maar n stappen, in plaats van 2^(n-1) + 1 met een gewone computer!"
   ]
  },
  {
   "cell_type": "code",
   "execution_count": 5,
   "id": "8c99ea25-5661-4720-83e0-97a99c2fdf0a",
   "metadata": {},
   "outputs": [],
   "source": [
    "# superpositie ongedaan maken\n",
    "for i in range(n):\n",
    "  program.h(qr[i])\n",
    "\n",
    "# resultaat meten van elke input qubit\n",
    "program.barrier()\n",
    "for i in range(n):\n",
    "  program.measure(qr[i], cr[i])"
   ]
  },
  {
   "cell_type": "code",
   "execution_count": 6,
   "id": "4da35815-d6cc-430a-8437-59d2aeb645ee",
   "metadata": {},
   "outputs": [
    {
     "name": "stdout",
     "output_type": "stream",
     "text": [
      "Running on the simulator.\n",
      "{'000': 100}\n"
     ]
    }
   ],
   "source": [
    "# The output voor een constant oracle bevat allemaal 0'en, voor gebalanceerde oracles zitten er altijd 1'en tussen. \n",
    "# op een echte quantum computer is er ruis, en moet je dus goed kijken naar wat het vaakst voorkomt. Daarom worden experimenten\n",
    "# typisch vaak herhaald, zoals ook in deze code 100 keer.\n",
    "# bij gebalanceerde oracle gaat de code qubits outputten waar zeker 1'en tussen zitten.\n",
    "\n",
    "# verwachte output:\n",
    "\n",
    "# Simulator - constant oracle.\n",
    "# {'000': 1024}\n",
    "# Simulator - gebalanceerd oracle.\n",
    "# {'011': 1024}\n",
    "# quantum computer - Tconstant oracle.\n",
    "# {'110': 2, '000': 879, '100': 75, '010': 29, '101': 5, '011': 1, '001': 33}\n",
    "# quantum computer - gebalanceerd.\n",
    "# {'100': 163, '111': 238, '010': 88, '101': 73, '011': 264, '001': 69, '110': 69, '000': 60}\n",
    "print(run(program, type))"
   ]
  },
  {
   "cell_type": "markdown",
   "id": "d0555099-26d9-4093-b80f-e7d524e6ee84",
   "metadata": {},
   "source": [
    "Meer details: zie https://qiskit.org/textbook/ch-algorithms/deutsch-jozsa.html"
   ]
  },
  {
   "cell_type": "code",
   "execution_count": null,
   "id": "6e1ecd27-2ae6-4861-a87d-fbd1f00b31f6",
   "metadata": {},
   "outputs": [],
   "source": []
  }
 ],
 "metadata": {
  "kernelspec": {
   "display_name": "Python 3",
   "language": "python",
   "name": "python3"
  },
  "language_info": {
   "codemirror_mode": {
    "name": "ipython",
    "version": 3
   },
   "file_extension": ".py",
   "mimetype": "text/x-python",
   "name": "python",
   "nbconvert_exporter": "python",
   "pygments_lexer": "ipython3",
   "version": "3.11.10"
  },
  "widgets": {
   "application/vnd.jupyter.widget-state+json": {
    "state": {},
    "version_major": 2,
    "version_minor": 0
   }
  }
 },
 "nbformat": 4,
 "nbformat_minor": 5
}
